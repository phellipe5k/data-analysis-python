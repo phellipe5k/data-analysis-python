{
 "cells": [
  {
   "cell_type": "code",
   "execution_count": 116,
   "metadata": {},
   "outputs": [
    {
     "name": "stdout",
     "output_type": "stream",
     "text": [
      "macaco 2.2.0\n"
     ]
    }
   ],
   "source": [
    "import pandas as pd\n",
    "import math\n",
    "print(f\"macaco {pd.__version__}\")"
   ]
  },
  {
   "cell_type": "code",
   "execution_count": 117,
   "metadata": {},
   "outputs": [],
   "source": [
    "dic_medidas = {\n",
    "\t\"idade\": [15,18,55,27,38,60,43,52,55],\n",
    "\t\"altura\": [160,170,146,200,210,163,155,180,182]\n",
    "}"
   ]
  },
  {
   "cell_type": "code",
   "execution_count": 118,
   "metadata": {},
   "outputs": [
    {
     "data": {
      "text/plain": [
       "{'idade': [15, 18, 55, 27, 38, 60, 43, 52, 55],\n",
       " 'altura': [160, 170, 146, 200, 210, 163, 155, 180, 182]}"
      ]
     },
     "execution_count": 118,
     "metadata": {},
     "output_type": "execute_result"
    }
   ],
   "source": [
    "dic_medidas"
   ]
  },
  {
   "cell_type": "code",
   "execution_count": 119,
   "metadata": {},
   "outputs": [],
   "source": [
    "table_medidas = pd.DataFrame.from_dict(dic_medidas)"
   ]
  },
  {
   "cell_type": "code",
   "execution_count": 120,
   "metadata": {},
   "outputs": [
    {
     "data": {
      "text/html": [
       "<div>\n",
       "<style scoped>\n",
       "    .dataframe tbody tr th:only-of-type {\n",
       "        vertical-align: middle;\n",
       "    }\n",
       "\n",
       "    .dataframe tbody tr th {\n",
       "        vertical-align: top;\n",
       "    }\n",
       "\n",
       "    .dataframe thead th {\n",
       "        text-align: right;\n",
       "    }\n",
       "</style>\n",
       "<table border=\"1\" class=\"dataframe\">\n",
       "  <thead>\n",
       "    <tr style=\"text-align: right;\">\n",
       "      <th></th>\n",
       "      <th>idade</th>\n",
       "      <th>altura</th>\n",
       "    </tr>\n",
       "  </thead>\n",
       "  <tbody>\n",
       "    <tr>\n",
       "      <th>0</th>\n",
       "      <td>15</td>\n",
       "      <td>160</td>\n",
       "    </tr>\n",
       "    <tr>\n",
       "      <th>1</th>\n",
       "      <td>18</td>\n",
       "      <td>170</td>\n",
       "    </tr>\n",
       "    <tr>\n",
       "      <th>2</th>\n",
       "      <td>55</td>\n",
       "      <td>146</td>\n",
       "    </tr>\n",
       "    <tr>\n",
       "      <th>3</th>\n",
       "      <td>27</td>\n",
       "      <td>200</td>\n",
       "    </tr>\n",
       "    <tr>\n",
       "      <th>4</th>\n",
       "      <td>38</td>\n",
       "      <td>210</td>\n",
       "    </tr>\n",
       "    <tr>\n",
       "      <th>5</th>\n",
       "      <td>60</td>\n",
       "      <td>163</td>\n",
       "    </tr>\n",
       "    <tr>\n",
       "      <th>6</th>\n",
       "      <td>43</td>\n",
       "      <td>155</td>\n",
       "    </tr>\n",
       "    <tr>\n",
       "      <th>7</th>\n",
       "      <td>52</td>\n",
       "      <td>180</td>\n",
       "    </tr>\n",
       "    <tr>\n",
       "      <th>8</th>\n",
       "      <td>55</td>\n",
       "      <td>182</td>\n",
       "    </tr>\n",
       "  </tbody>\n",
       "</table>\n",
       "</div>"
      ],
      "text/plain": [
       "   idade  altura\n",
       "0     15     160\n",
       "1     18     170\n",
       "2     55     146\n",
       "3     27     200\n",
       "4     38     210\n",
       "5     60     163\n",
       "6     43     155\n",
       "7     52     180\n",
       "8     55     182"
      ]
     },
     "execution_count": 120,
     "metadata": {},
     "output_type": "execute_result"
    }
   ],
   "source": [
    "table_medidas"
   ]
  },
  {
   "cell_type": "markdown",
   "metadata": {},
   "source": [
    "# Medidas Resumo"
   ]
  },
  {
   "cell_type": "markdown",
   "metadata": {},
   "source": [
    "### Medidas de posição"
   ]
  },
  {
   "cell_type": "markdown",
   "metadata": {},
   "source": [
    "#### Média"
   ]
  },
  {
   "cell_type": "code",
   "execution_count": 121,
   "metadata": {},
   "outputs": [
    {
     "name": "stdout",
     "output_type": "stream",
     "text": [
      "A média da idade é de  40.333333333333336\n",
      "A média da altura é de 174.0\n"
     ]
    }
   ],
   "source": [
    "## escolher qual coluna vamos coletar os dados\n",
    "print(\"A média da idade é de \", table_medidas[\"idade\"].mean())\n",
    "print(\"A média da altura é de\", table_medidas[\"altura\"].mean())\n",
    "\n",
    "\n",
    "# para calcular a média usamos o .mean() do pandas dataFrame"
   ]
  },
  {
   "cell_type": "markdown",
   "metadata": {},
   "source": [
    "#### Mediana"
   ]
  },
  {
   "cell_type": "markdown",
   "metadata": {},
   "source": []
  },
  {
   "cell_type": "code",
   "execution_count": 122,
   "metadata": {},
   "outputs": [
    {
     "name": "stdout",
     "output_type": "stream",
     "text": [
      "A mediana da idade é de  43.0\n",
      "A mediana da altura é de 170.0\n"
     ]
    }
   ],
   "source": [
    "## escolher qual coluna vamos coletar os dados\n",
    "print(\"A mediana da idade é de \", table_medidas[\"idade\"].median())\n",
    "print(\"A mediana da altura é de\", table_medidas[\"altura\"].median())\n",
    "\n",
    "\n",
    "# para calcular a mediana usamos o .median() do pandas dataFrame"
   ]
  },
  {
   "cell_type": "markdown",
   "metadata": {},
   "source": [
    "#### Moda"
   ]
  },
  {
   "cell_type": "code",
   "execution_count": 123,
   "metadata": {},
   "outputs": [
    {
     "name": "stdout",
     "output_type": "stream",
     "text": [
      "A moda da idade é de  0    55\n",
      "Name: idade, dtype: int64\n",
      "A moda da altura é de 0    146\n",
      "1    155\n",
      "2    160\n",
      "3    163\n",
      "4    170\n",
      "5    180\n",
      "6    182\n",
      "7    200\n",
      "8    210\n",
      "Name: altura, dtype: int64\n"
     ]
    }
   ],
   "source": [
    "## escolher qual coluna vamos coletar os dados\n",
    "print(\"A moda da idade é de \", table_medidas[\"idade\"].mode())\n",
    "print(\"A moda da altura é de\", table_medidas[\"altura\"].mode()) # neste caso a altura não possui moda.\n",
    "\n",
    "\n",
    "# para calcular a moda usamos o .mode() do pandas dataFrames"
   ]
  },
  {
   "cell_type": "markdown",
   "metadata": {},
   "source": []
  },
  {
   "cell_type": "markdown",
   "metadata": {},
   "source": [
    "## Medidas de Dispersão"
   ]
  },
  {
   "cell_type": "code",
   "execution_count": 124,
   "metadata": {},
   "outputs": [
    {
     "data": {
      "text/plain": [
       "443.75"
      ]
     },
     "execution_count": 124,
     "metadata": {},
     "output_type": "execute_result"
    }
   ],
   "source": [
    " # Variância\n",
    "table_medidas.altura.var()"
   ]
  },
  {
   "cell_type": "code",
   "execution_count": 125,
   "metadata": {},
   "outputs": [
    {
     "data": {
      "text/plain": [
       "21.065374432940896"
      ]
     },
     "execution_count": 125,
     "metadata": {},
     "output_type": "execute_result"
    }
   ],
   "source": [
    "# desvio padrao\n",
    "table_medidas.altura.std()"
   ]
  },
  {
   "cell_type": "code",
   "execution_count": 126,
   "metadata": {},
   "outputs": [
    {
     "data": {
      "text/plain": [
       "12.106537030425804"
      ]
     },
     "execution_count": 126,
     "metadata": {},
     "output_type": "execute_result"
    }
   ],
   "source": [
    "# coeficiente de variação da altura\n",
    "table_medidas.altura.std() / table_medidas.altura.mean() * 100"
   ]
  },
  {
   "cell_type": "markdown",
   "metadata": {},
   "source": []
  },
  {
   "cell_type": "code",
   "execution_count": 127,
   "metadata": {},
   "outputs": [
    {
     "data": {
      "text/plain": [
       "41.89275681499785"
      ]
     },
     "execution_count": 127,
     "metadata": {},
     "output_type": "execute_result"
    }
   ],
   "source": [
    "# coeficiente de variação - Idade -> quanto maior a coeficiente de variação, mais os dados presentes no calculo se variam\n",
    "## utilizando math.sqrt(descobrir raiz quadrada) math.sqrt(table_medidas.idade.var())\n",
    "table_medidas.idade.std() / table_medidas.idade.mean() * 100"
   ]
  },
  {
   "cell_type": "markdown",
   "metadata": {},
   "source": [
    "## Medidas de Forma"
   ]
  },
  {
   "cell_type": "code",
   "execution_count": 128,
   "metadata": {},
   "outputs": [
    {
     "data": {
      "text/plain": [
       "-0.47498907090436476"
      ]
     },
     "execution_count": 128,
     "metadata": {},
     "output_type": "execute_result"
    }
   ],
   "source": [
    "# Assimetria - Idade\n",
    "table_medidas.idade.skew()\n",
    "# possui a cauda esquerda mais longa, ou seja, os valores maiores estão mais comprimidos\n",
    "# R: Assimetria negativa"
   ]
  },
  {
   "cell_type": "markdown",
   "metadata": {},
   "source": []
  },
  {
   "cell_type": "code",
   "execution_count": 129,
   "metadata": {},
   "outputs": [
    {
     "data": {
      "text/plain": [
       "0.5503419362721405"
      ]
     },
     "execution_count": 129,
     "metadata": {},
     "output_type": "execute_result"
    }
   ],
   "source": [
    "# Assimetria - Altura\n",
    "table_medidas.altura.skew()\n",
    "# possui a cauda direita mais longa, os valores maiores estão mais espalhados\n",
    "# R: Assimetria positiva"
   ]
  },
  {
   "cell_type": "code",
   "execution_count": 130,
   "metadata": {},
   "outputs": [
    {
     "data": {
      "text/plain": [
       "-0.5718493496188395"
      ]
     },
     "execution_count": 130,
     "metadata": {},
     "output_type": "execute_result"
    }
   ],
   "source": [
    "# Curtose - Idade\n",
    "table_medidas.altura.kurtosis()\n",
    "# Curtose negativa, ou seja, nos 2 casos, possui uma distribuição mais achatados, os dados estão mais espalhados"
   ]
  },
  {
   "cell_type": "code",
   "execution_count": 131,
   "metadata": {},
   "outputs": [
    {
     "data": {
      "text/plain": [
       "-1.4396620582775075"
      ]
     },
     "execution_count": 131,
     "metadata": {},
     "output_type": "execute_result"
    }
   ],
   "source": [
    "# Curtose - Altura\n",
    "table_medidas.idade.kurtosis()\n",
    "# Curtose negativa, ou seja, nos 2 casos, possui uma distribuição mais achatados, os dados estão mais espalhados"
   ]
  },
  {
   "cell_type": "code",
   "execution_count": 132,
   "metadata": {},
   "outputs": [
    {
     "data": {
      "text/plain": [
       "count     9.000000\n",
       "mean     40.333333\n",
       "std      16.896745\n",
       "min      15.000000\n",
       "25%      27.000000\n",
       "50%      43.000000\n",
       "75%      55.000000\n",
       "max      60.000000\n",
       "Name: idade, dtype: float64"
      ]
     },
     "execution_count": 132,
     "metadata": {},
     "output_type": "execute_result"
    }
   ],
   "source": [
    "# Obter medidas estatísticas\n",
    "table_medidas.idade.describe()"
   ]
  }
 ],
 "metadata": {
  "kernelspec": {
   "display_name": "statitics_dev-6FVvRicV",
   "language": "python",
   "name": "python3"
  },
  "language_info": {
   "codemirror_mode": {
    "name": "ipython",
    "version": 3
   },
   "file_extension": ".py",
   "mimetype": "text/x-python",
   "name": "python",
   "nbconvert_exporter": "python",
   "pygments_lexer": "ipython3",
   "version": "3.11.0"
  }
 },
 "nbformat": 4,
 "nbformat_minor": 2
}
