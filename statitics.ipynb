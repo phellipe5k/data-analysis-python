{
 "cells": [
  {
   "cell_type": "code",
   "execution_count": null,
   "metadata": {},
   "outputs": [],
   "source": [
    "import pandas as pd\n",
    "print(f\"macaco {pd.__version__}\")"
   ]
  },
  {
   "cell_type": "code",
   "execution_count": 8,
   "metadata": {},
   "outputs": [],
   "source": [
    "dic_medidas = {\n",
    "\t\"idade\": [15,18,55,27,38,60,43,52,55],\n",
    "\t\"altura\": [160,170,146,200,210,163,155,180,182]\n",
    "}"
   ]
  },
  {
   "cell_type": "code",
   "execution_count": 9,
   "metadata": {},
   "outputs": [
    {
     "data": {
      "text/plain": [
       "{'idade': [15, 18, 55, 27, 38, 60, 43, 52, 55],\n",
       " 'altura': [160, 170, 146, 200, 210, 163, 155, 180, 182]}"
      ]
     },
     "execution_count": 9,
     "metadata": {},
     "output_type": "execute_result"
    }
   ],
   "source": [
    "dic_medidas"
   ]
  },
  {
   "cell_type": "code",
   "execution_count": 10,
   "metadata": {},
   "outputs": [],
   "source": [
    "table_medidas = pd.DataFrame.from_dict(dic_medidas)"
   ]
  },
  {
   "cell_type": "code",
   "execution_count": 11,
   "metadata": {},
   "outputs": [
    {
     "data": {
      "text/html": [
       "<div>\n",
       "<style scoped>\n",
       "    .dataframe tbody tr th:only-of-type {\n",
       "        vertical-align: middle;\n",
       "    }\n",
       "\n",
       "    .dataframe tbody tr th {\n",
       "        vertical-align: top;\n",
       "    }\n",
       "\n",
       "    .dataframe thead th {\n",
       "        text-align: right;\n",
       "    }\n",
       "</style>\n",
       "<table border=\"1\" class=\"dataframe\">\n",
       "  <thead>\n",
       "    <tr style=\"text-align: right;\">\n",
       "      <th></th>\n",
       "      <th>idade</th>\n",
       "      <th>altura</th>\n",
       "    </tr>\n",
       "  </thead>\n",
       "  <tbody>\n",
       "    <tr>\n",
       "      <th>0</th>\n",
       "      <td>15</td>\n",
       "      <td>160</td>\n",
       "    </tr>\n",
       "    <tr>\n",
       "      <th>1</th>\n",
       "      <td>18</td>\n",
       "      <td>170</td>\n",
       "    </tr>\n",
       "    <tr>\n",
       "      <th>2</th>\n",
       "      <td>55</td>\n",
       "      <td>146</td>\n",
       "    </tr>\n",
       "    <tr>\n",
       "      <th>3</th>\n",
       "      <td>27</td>\n",
       "      <td>200</td>\n",
       "    </tr>\n",
       "    <tr>\n",
       "      <th>4</th>\n",
       "      <td>38</td>\n",
       "      <td>210</td>\n",
       "    </tr>\n",
       "    <tr>\n",
       "      <th>5</th>\n",
       "      <td>60</td>\n",
       "      <td>163</td>\n",
       "    </tr>\n",
       "    <tr>\n",
       "      <th>6</th>\n",
       "      <td>43</td>\n",
       "      <td>155</td>\n",
       "    </tr>\n",
       "    <tr>\n",
       "      <th>7</th>\n",
       "      <td>52</td>\n",
       "      <td>180</td>\n",
       "    </tr>\n",
       "    <tr>\n",
       "      <th>8</th>\n",
       "      <td>55</td>\n",
       "      <td>182</td>\n",
       "    </tr>\n",
       "  </tbody>\n",
       "</table>\n",
       "</div>"
      ],
      "text/plain": [
       "   idade  altura\n",
       "0     15     160\n",
       "1     18     170\n",
       "2     55     146\n",
       "3     27     200\n",
       "4     38     210\n",
       "5     60     163\n",
       "6     43     155\n",
       "7     52     180\n",
       "8     55     182"
      ]
     },
     "execution_count": 11,
     "metadata": {},
     "output_type": "execute_result"
    }
   ],
   "source": [
    "table_medidas"
   ]
  },
  {
   "cell_type": "markdown",
   "metadata": {},
   "source": [
    "# Medidas Resumo"
   ]
  },
  {
   "cell_type": "markdown",
   "metadata": {},
   "source": [
    "### Medidas de posição"
   ]
  },
  {
   "cell_type": "markdown",
   "metadata": {},
   "source": [
    "#### Média"
   ]
  },
  {
   "cell_type": "code",
   "execution_count": 16,
   "metadata": {},
   "outputs": [
    {
     "name": "stdout",
     "output_type": "stream",
     "text": [
      "A média da idade é de  40.333333333333336\n",
      "A média da altura é de 174.0\n"
     ]
    }
   ],
   "source": [
    "## escolher qual coluna vamos coletar os dados\n",
    "print(\"A média da idade é de \", table_medidas[\"idade\"].mean())\n",
    "print(\"A média da altura é de\", table_medidas[\"altura\"].mean())\n",
    "\n",
    "\n",
    "# para calcular a média usamos o .mean() do pandas dataFrame"
   ]
  },
  {
   "cell_type": "markdown",
   "metadata": {},
   "source": [
    "#### Mediana"
   ]
  },
  {
   "cell_type": "code",
   "execution_count": 19,
   "metadata": {},
   "outputs": [
    {
     "name": "stdout",
     "output_type": "stream",
     "text": [
      "A mediana da idade é de  43.0\n",
      "A mediana da altura é de 170.0\n"
     ]
    }
   ],
   "source": [
    "## escolher qual coluna vamos coletar os dados\n",
    "print(\"A mediana da idade é de \", table_medidas[\"idade\"].median())\n",
    "print(\"A mediana da altura é de\", table_medidas[\"altura\"].median())\n",
    "\n",
    "\n",
    "# para calcular a mediana usamos o .median() do pandas dataFrame"
   ]
  },
  {
   "cell_type": "markdown",
   "metadata": {},
   "source": [
    "#### Moda"
   ]
  },
  {
   "cell_type": "code",
   "execution_count": 20,
   "metadata": {},
   "outputs": [
    {
     "name": "stdout",
     "output_type": "stream",
     "text": [
      "A moda da idade é de  0    55\n",
      "Name: idade, dtype: int64\n",
      "A moda da altura é de 0    146\n",
      "1    155\n",
      "2    160\n",
      "3    163\n",
      "4    170\n",
      "5    180\n",
      "6    182\n",
      "7    200\n",
      "8    210\n",
      "Name: altura, dtype: int64\n"
     ]
    }
   ],
   "source": [
    "## escolher qual coluna vamos coletar os dados\n",
    "print(\"A moda da idade é de \", table_medidas[\"idade\"].mode())\n",
    "print(\"A moda da altura é de\", table_medidas[\"altura\"].mode()) # neste caso a altura não possui moda.\n",
    "\n",
    "\n",
    "# para calcular a moda usamos o .mode() do pandas dataFrames"
   ]
  }
 ],
 "metadata": {
  "kernelspec": {
   "display_name": "statitics_dev-6FVvRicV",
   "language": "python",
   "name": "python3"
  },
  "language_info": {
   "codemirror_mode": {
    "name": "ipython",
    "version": 3
   },
   "file_extension": ".py",
   "mimetype": "text/x-python",
   "name": "python",
   "nbconvert_exporter": "python",
   "pygments_lexer": "ipython3",
   "version": "3.11.0"
  }
 },
 "nbformat": 4,
 "nbformat_minor": 2
}
